{
  "cells": [
    {
      "cell_type": "code",
      "execution_count": 1,
      "metadata": {
        "id": "_09P2fGvQjTV"
      },
      "outputs": [],
      "source": [
        "# Warning control\n",
        "import warnings\n",
        "warnings.filterwarnings('ignore')"
      ]
    },
    {
      "cell_type": "code",
      "execution_count": null,
      "metadata": {
        "colab": {
          "base_uri": "https://localhost:8080/"
        },
        "id": "mtuaxpN4Up0g",
        "outputId": "0fcfdf19-2eba-4e34-bce9-8cc2bee96e6c"
      },
      "outputs": [
        {
          "name": "stdout",
          "output_type": "stream",
          "text": [
            "Collecting unstructured-client\n",
            "  Downloading unstructured_client-0.38.1-py3-none-any.whl.metadata (21 kB)\n",
            "Requirement already satisfied: aiofiles>=24.1.0 in /usr/local/lib/python3.11/dist-packages (from unstructured-client) (24.1.0)\n",
            "Requirement already satisfied: cryptography>=3.1 in /usr/local/lib/python3.11/dist-packages (from unstructured-client) (43.0.3)\n",
            "Requirement already satisfied: httpx>=0.27.0 in /usr/local/lib/python3.11/dist-packages (from unstructured-client) (0.28.1)\n",
            "Requirement already satisfied: nest-asyncio>=1.6.0 in /usr/local/lib/python3.11/dist-packages (from unstructured-client) (1.6.0)\n",
            "Requirement already satisfied: pydantic>=2.11.2 in /usr/local/lib/python3.11/dist-packages (from unstructured-client) (2.11.7)\n",
            "Collecting pypdf>=4.0 (from unstructured-client)\n",
            "  Downloading pypdf-5.7.0-py3-none-any.whl.metadata (7.2 kB)\n",
            "Requirement already satisfied: requests-toolbelt>=1.0.0 in /usr/local/lib/python3.11/dist-packages (from unstructured-client) (1.0.0)\n",
            "Requirement already satisfied: cffi>=1.12 in /usr/local/lib/python3.11/dist-packages (from cryptography>=3.1->unstructured-client) (1.17.1)\n",
            "Requirement already satisfied: anyio in /usr/local/lib/python3.11/dist-packages (from httpx>=0.27.0->unstructured-client) (4.9.0)\n",
            "Requirement already satisfied: certifi in /usr/local/lib/python3.11/dist-packages (from httpx>=0.27.0->unstructured-client) (2025.6.15)\n",
            "Requirement already satisfied: httpcore==1.* in /usr/local/lib/python3.11/dist-packages (from httpx>=0.27.0->unstructured-client) (1.0.9)\n",
            "Requirement already satisfied: idna in /usr/local/lib/python3.11/dist-packages (from httpx>=0.27.0->unstructured-client) (3.10)\n",
            "Requirement already satisfied: h11>=0.16 in /usr/local/lib/python3.11/dist-packages (from httpcore==1.*->httpx>=0.27.0->unstructured-client) (0.16.0)\n",
            "Requirement already satisfied: annotated-types>=0.6.0 in /usr/local/lib/python3.11/dist-packages (from pydantic>=2.11.2->unstructured-client) (0.7.0)\n",
            "Requirement already satisfied: pydantic-core==2.33.2 in /usr/local/lib/python3.11/dist-packages (from pydantic>=2.11.2->unstructured-client) (2.33.2)\n",
            "Requirement already satisfied: typing-extensions>=4.12.2 in /usr/local/lib/python3.11/dist-packages (from pydantic>=2.11.2->unstructured-client) (4.14.0)\n",
            "Requirement already satisfied: typing-inspection>=0.4.0 in /usr/local/lib/python3.11/dist-packages (from pydantic>=2.11.2->unstructured-client) (0.4.1)\n",
            "Requirement already satisfied: requests<3.0.0,>=2.0.1 in /usr/local/lib/python3.11/dist-packages (from requests-toolbelt>=1.0.0->unstructured-client) (2.32.3)\n",
            "Requirement already satisfied: pycparser in /usr/local/lib/python3.11/dist-packages (from cffi>=1.12->cryptography>=3.1->unstructured-client) (2.22)\n",
            "Requirement already satisfied: charset-normalizer<4,>=2 in /usr/local/lib/python3.11/dist-packages (from requests<3.0.0,>=2.0.1->requests-toolbelt>=1.0.0->unstructured-client) (3.4.2)\n",
            "Requirement already satisfied: urllib3<3,>=1.21.1 in /usr/local/lib/python3.11/dist-packages (from requests<3.0.0,>=2.0.1->requests-toolbelt>=1.0.0->unstructured-client) (2.4.0)\n",
            "Requirement already satisfied: sniffio>=1.1 in /usr/local/lib/python3.11/dist-packages (from anyio->httpx>=0.27.0->unstructured-client) (1.3.1)\n",
            "Downloading unstructured_client-0.38.1-py3-none-any.whl (212 kB)\n",
            "\u001b[2K   \u001b[90m━━━━━━━━━━━━━━━━━━━━━━━━━━━━━━━━━━━━━━━━\u001b[0m \u001b[32m212.6/212.6 kB\u001b[0m \u001b[31m4.6 MB/s\u001b[0m eta \u001b[36m0:00:00\u001b[0m\n",
            "\u001b[?25hDownloading pypdf-5.7.0-py3-none-any.whl (305 kB)\n",
            "\u001b[2K   \u001b[90m━━━━━━━━━━━━━━━━━━━━━━━━━━━━━━━━━━━━━━━━\u001b[0m \u001b[32m305.5/305.5 kB\u001b[0m \u001b[31m12.1 MB/s\u001b[0m eta \u001b[36m0:00:00\u001b[0m\n",
            "\u001b[?25hInstalling collected packages: pypdf, unstructured-client\n",
            "Successfully installed pypdf-5.7.0 unstructured-client-0.38.1\n"
          ]
        }
      ],
      "source": [
        "%pip install unstructured-client\n",
        "%pip install unstructured\n",
        "%pip install python-pptx\n",
        "# %pip install pdfminer.six\n",
        "# %pip install pi_heif\n",
        "# %pip install unstructured-inference\n",
        "# !sudo apt-get update\n",
        "# !sudo apt-get install -y poppler-utils\n",
        "# %pip install \"unstructured[pdf,all-docs]\""
      ]
    },
    {
      "cell_type": "code",
      "execution_count": null,
      "metadata": {
        "id": "ITXxS-9RRNCL"
      },
      "outputs": [],
      "source": [
        "# from Utils import Utils\n",
        "# utils = Utils()\n",
        "\n",
        "# DLAI_API_KEY = utils.get_dlai_api_key()\n",
        "# DLAI_API_URL = utils.get_dlai_url()\n",
        "\n",
        "# s = UnstructuredClient(\n",
        "#     api_key_auth=DLAI_API_KEY,\n",
        "#     server_url=DLAI_API_URL,\n",
        "# )"
      ]
    },
    {
      "cell_type": "code",
      "execution_count": 2,
      "metadata": {
        "id": "1gDkJLI-RM_p"
      },
      "outputs": [],
      "source": [
        "from IPython.display import JSON\n",
        "\n",
        "import json\n",
        "\n",
        "from unstructured_client import UnstructuredClient\n",
        "from unstructured_client.models import shared\n",
        "from unstructured_client.models.errors import SDKError\n",
        "\n",
        "from unstructured.partition.pptx import partition_pptx\n",
        "from unstructured.staging.base import dict_to_elements, elements_to_json"
      ]
    },
    {
      "cell_type": "code",
      "execution_count": 11,
      "metadata": {
        "id": "DLGugxF8RNEu"
      },
      "outputs": [],
      "source": [
        "filename = \"/content/Hofstede’s Cultural Dimensions.pptx\"\n",
        "elements = partition_pptx(filename=filename)"
      ]
    },
    {
      "cell_type": "code",
      "execution_count": 16,
      "metadata": {
        "id": "uvCTVb-ORNHO"
      },
      "outputs": [],
      "source": [
        "element_dict = [el.to_dict() for el in elements]\n",
        "example_output = json.dumps(element_dict[:], indent=2)"
      ]
    },
    {
      "cell_type": "code",
      "execution_count": 19,
      "metadata": {
        "colab": {
          "base_uri": "https://localhost:8080/",
          "height": 1000
        },
        "id": "fhDfk_6iW2b4",
        "outputId": "1628c1eb-820d-486d-ceec-cdfa79f4c9c4"
      },
      "outputs": [
        {
          "data": {
            "application/json": [
              {
                "element_id": "9717151cddba2c06388c9f5f1f7682a4",
                "metadata": {
                  "category_depth": 0,
                  "file_directory": "/content",
                  "filename": "Hofstede’s Cultural Dimensions.pptx",
                  "filetype": "application/vnd.openxmlformats-officedocument.presentationml.presentation",
                  "languages": [
                    "eng"
                  ],
                  "last_modified": "2025-07-08T14:03:14",
                  "page_number": 1
                },
                "text": "Hofstede's Dimensions of National Culture",
                "type": "Title"
              },
              {
                "element_id": "e4928eb41dd9f11a38de2f9a9dbe6694",
                "metadata": {
                  "category_depth": 1,
                  "file_directory": "/content",
                  "filename": "Hofstede’s Cultural Dimensions.pptx",
                  "filetype": "application/vnd.openxmlformats-officedocument.presentationml.presentation",
                  "languages": [
                    "eng"
                  ],
                  "last_modified": "2025-07-08T14:03:14",
                  "page_number": 1,
                  "parent_id": "9717151cddba2c06388c9f5f1f7682a4"
                },
                "text": "Team:",
                "type": "Title"
              },
              {
                "element_id": "ba8ba45b79f4691126625d6be3c077c5",
                "metadata": {
                  "category_depth": 0,
                  "file_directory": "/content",
                  "filename": "Hofstede’s Cultural Dimensions.pptx",
                  "filetype": "application/vnd.openxmlformats-officedocument.presentationml.presentation",
                  "languages": [
                    "eng"
                  ],
                  "last_modified": "2025-07-08T14:03:14",
                  "page_number": 1,
                  "parent_id": "e4928eb41dd9f11a38de2f9a9dbe6694"
                },
                "text": "Ali Salama",
                "type": "ListItem"
              },
              {
                "element_id": "c2573e1c2822c9956c3b09a34a6996a8",
                "metadata": {
                  "category_depth": 0,
                  "file_directory": "/content",
                  "filename": "Hofstede’s Cultural Dimensions.pptx",
                  "filetype": "application/vnd.openxmlformats-officedocument.presentationml.presentation",
                  "languages": [
                    "eng"
                  ],
                  "last_modified": "2025-07-08T14:03:14",
                  "page_number": 1,
                  "parent_id": "e4928eb41dd9f11a38de2f9a9dbe6694"
                },
                "text": "Israa Abdelghany",
                "type": "ListItem"
              },
              {
                "element_id": "05111d8ce7808068611496dc0e0fc5a8",
                "metadata": {
                  "category_depth": 0,
                  "file_directory": "/content",
                  "filename": "Hofstede’s Cultural Dimensions.pptx",
                  "filetype": "application/vnd.openxmlformats-officedocument.presentationml.presentation",
                  "languages": [
                    "eng"
                  ],
                  "last_modified": "2025-07-08T14:03:14",
                  "page_number": 1,
                  "parent_id": "e4928eb41dd9f11a38de2f9a9dbe6694"
                },
                "text": "Adham Assy",
                "type": "ListItem"
              },
              {
                "element_id": "be09d3c5a92260cb04bdec2f1bf96c5f",
                "metadata": {
                  "file_directory": "/content",
                  "filename": "Hofstede’s Cultural Dimensions.pptx",
                  "filetype": "application/vnd.openxmlformats-officedocument.presentationml.presentation",
                  "languages": [
                    "eng"
                  ],
                  "last_modified": "2025-07-08T14:03:14",
                  "page_number": 1
                },
                "text": "",
                "type": "PageBreak"
              },
              {
                "element_id": "52779afc395ead9a1a872ec08076ebaa",
                "metadata": {
                  "category_depth": 1,
                  "file_directory": "/content",
                  "filename": "Hofstede’s Cultural Dimensions.pptx",
                  "filetype": "application/vnd.openxmlformats-officedocument.presentationml.presentation",
                  "languages": [
                    "eng"
                  ],
                  "last_modified": "2025-07-08T14:03:14",
                  "page_number": 2
                },
                "text": "Introduction",
                "type": "Title"
              },
              {
                "element_id": "af3b8a5ff374a3a0de4cfe4521402211",
                "metadata": {
                  "category_depth": 0,
                  "file_directory": "/content",
                  "filename": "Hofstede’s Cultural Dimensions.pptx",
                  "filetype": "application/vnd.openxmlformats-officedocument.presentationml.presentation",
                  "languages": [
                    "eng"
                  ],
                  "last_modified": "2025-07-08T14:03:14",
                  "page_number": 2
                },
                "text": "In 1965 Hofstede (Dutch social psychologist) founded the personnel research department of IBM Europe. \u000bBetween 1967 and 1973, he executed a large survey study to identify cultural differences across nations and how these differences affect organizational behavior and management practices. He compared the answers of 117,000 IBM matched employees samples on the same attitude survey in different countries. \u000b",
                "type": "Title"
              },
              {
                "element_id": "7eb8605b8b5372ff37953994bb9eed3e",
                "metadata": {
                  "file_directory": "/content",
                  "filename": "Hofstede’s Cultural Dimensions.pptx",
                  "filetype": "application/vnd.openxmlformats-officedocument.presentationml.presentation",
                  "languages": [
                    "eng"
                  ],
                  "last_modified": "2025-07-08T14:03:14",
                  "page_number": 2
                },
                "text": "",
                "type": "PageBreak"
              },
              {
                "element_id": "216854cf843c070cbc7ea8bfc2535851",
                "metadata": {
                  "category_depth": 0,
                  "file_directory": "/content",
                  "filename": "Hofstede’s Cultural Dimensions.pptx",
                  "filetype": "application/vnd.openxmlformats-officedocument.presentationml.presentation",
                  "languages": [
                    "eng"
                  ],
                  "last_modified": "2025-07-08T14:03:14",
                  "page_number": 3
                },
                "text": "Types of Questions:",
                "type": "Title"
              },
              {
                "element_id": "a0a141d305a194d8269e075605c4cca1",
                "metadata": {
                  "category_depth": 0,
                  "file_directory": "/content",
                  "filename": "Hofstede’s Cultural Dimensions.pptx",
                  "filetype": "application/vnd.openxmlformats-officedocument.presentationml.presentation",
                  "languages": [
                    "eng"
                  ],
                  "last_modified": "2025-07-08T14:03:14",
                  "page_number": 3,
                  "parent_id": "216854cf843c070cbc7ea8bfc2535851"
                },
                "text": "Work goals (e.g., recognition, job security, salary).",
                "type": "ListItem"
              },
              {
                "element_id": "028ca44a048c89032e885371c6994717",
                "metadata": {
                  "category_depth": 0,
                  "file_directory": "/content",
                  "filename": "Hofstede’s Cultural Dimensions.pptx",
                  "filetype": "application/vnd.openxmlformats-officedocument.presentationml.presentation",
                  "languages": [
                    "eng"
                  ],
                  "last_modified": "2025-07-08T14:03:14",
                  "page_number": 3,
                  "parent_id": "216854cf843c070cbc7ea8bfc2535851"
                },
                "text": "Views on leadership (e.g., ideal boss traits).",
                "type": "ListItem"
              },
              {
                "element_id": "ff0c3c30c36ad152165dc849534ac81e",
                "metadata": {
                  "category_depth": 0,
                  "file_directory": "/content",
                  "filename": "Hofstede’s Cultural Dimensions.pptx",
                  "filetype": "application/vnd.openxmlformats-officedocument.presentationml.presentation",
                  "languages": [
                    "eng"
                  ],
                  "last_modified": "2025-07-08T14:03:14",
                  "page_number": 3,
                  "parent_id": "216854cf843c070cbc7ea8bfc2535851"
                },
                "text": "Attitudes toward rules and risk.",
                "type": "ListItem"
              },
              {
                "element_id": "27c9013f5cb313c6b062d71c9956b8ef",
                "metadata": {
                  "category_depth": 0,
                  "file_directory": "/content",
                  "filename": "Hofstede’s Cultural Dimensions.pptx",
                  "filetype": "application/vnd.openxmlformats-officedocument.presentationml.presentation",
                  "languages": [
                    "eng"
                  ],
                  "last_modified": "2025-07-08T14:03:14",
                  "page_number": 3,
                  "parent_id": "216854cf843c070cbc7ea8bfc2535851"
                },
                "text": "Perspectives on societal norms and traditions.",
                "type": "ListItem"
              },
              {
                "element_id": "50a6507bfc6c6f159de6cd0d3f27430c",
                "metadata": {
                  "category_depth": 0,
                  "file_directory": "/content",
                  "filename": "Hofstede’s Cultural Dimensions.pptx",
                  "filetype": "application/vnd.openxmlformats-officedocument.presentationml.presentation",
                  "languages": [
                    "eng"
                  ],
                  "last_modified": "2025-07-08T14:03:14",
                  "page_number": 3,
                  "parent_id": "216854cf843c070cbc7ea8bfc2535851"
                },
                "text": "Views on work-life balance.",
                "type": "ListItem"
              },
              {
                "element_id": "dc9c32ae74b3b1b6fc89e134da7c57fa",
                "metadata": {
                  "category_depth": 0,
                  "file_directory": "/content",
                  "filename": "Hofstede’s Cultural Dimensions.pptx",
                  "filetype": "application/vnd.openxmlformats-officedocument.presentationml.presentation",
                  "languages": [
                    "eng"
                  ],
                  "last_modified": "2025-07-08T14:03:14",
                  "page_number": 3,
                  "parent_id": "216854cf843c070cbc7ea8bfc2535851"
                },
                "text": "Preferences for Decision Making. ",
                "type": "ListItem"
              },
              {
                "element_id": "0e21a0824f727dab7dc13e108950d921",
                "metadata": {
                  "category_depth": 0,
                  "file_directory": "/content",
                  "filename": "Hofstede’s Cultural Dimensions.pptx",
                  "filetype": "application/vnd.openxmlformats-officedocument.presentationml.presentation",
                  "languages": [
                    "eng"
                  ],
                  "last_modified": "2025-07-08T14:03:14",
                  "page_number": 3,
                  "parent_id": "216854cf843c070cbc7ea8bfc2535851"
                },
                "text": "Motivational Factors.",
                "type": "ListItem"
              },
              {
                "element_id": "0dc10fb946b9ac4f575540c08fcdc054",
                "metadata": {
                  "category_depth": 0,
                  "file_directory": "/content",
                  "filename": "Hofstede’s Cultural Dimensions.pptx",
                  "filetype": "application/vnd.openxmlformats-officedocument.presentationml.presentation",
                  "languages": [
                    "eng"
                  ],
                  "last_modified": "2025-07-08T14:03:14",
                  "page_number": 3,
                  "parent_id": "216854cf843c070cbc7ea8bfc2535851"
                },
                "text": "Gender Roles and Equality.",
                "type": "ListItem"
              },
              {
                "element_id": "b97039c8e7303dd89e777b2f17b3be9c",
                "metadata": {
                  "category_depth": 0,
                  "file_directory": "/content",
                  "filename": "Hofstede’s Cultural Dimensions.pptx",
                  "filetype": "application/vnd.openxmlformats-officedocument.presentationml.presentation",
                  "languages": [
                    "eng"
                  ],
                  "last_modified": "2025-07-08T14:03:14",
                  "page_number": 3,
                  "parent_id": "216854cf843c070cbc7ea8bfc2535851"
                },
                "text": "Future Orientation. ",
                "type": "ListItem"
              },
              {
                "element_id": "8f3e21e102cbbd765285294ca8c2696b",
                "metadata": {
                  "file_directory": "/content",
                  "filename": "Hofstede’s Cultural Dimensions.pptx",
                  "filetype": "application/vnd.openxmlformats-officedocument.presentationml.presentation",
                  "languages": [
                    "eng"
                  ],
                  "last_modified": "2025-07-08T14:03:14",
                  "page_number": 3
                },
                "text": "",
                "type": "PageBreak"
              },
              {
                "element_id": "b70fb2fe66e7ac04ece2f41df14bde6c",
                "metadata": {
                  "category_depth": 0,
                  "file_directory": "/content",
                  "filename": "Hofstede’s Cultural Dimensions.pptx",
                  "filetype": "application/vnd.openxmlformats-officedocument.presentationml.presentation",
                  "languages": [
                    "eng"
                  ],
                  "last_modified": "2025-07-08T14:03:14",
                  "page_number": 4
                },
                "text": "He first focused his research on the 40 largest countries, and then extended it to 50 countries and 3 regions, he chose countries based on IBM's presence, ensuring a mix of cultures, regions, and economic statuses. These included Western nations (e.g., the USA, Germany), Asian countries (e.g., Japan, India), and others worldwide. The focus was on diversity to reflect cultural variation.\u000b\u000bAnd he finally came out with his famous 6 Dimensions.",
                "type": "Title"
              },
              {
                "element_id": "bb3d63f49b45cfaef0486c7d2f1d6629",
                "metadata": {
                  "file_directory": "/content",
                  "filename": "Hofstede’s Cultural Dimensions.pptx",
                  "filetype": "application/vnd.openxmlformats-officedocument.presentationml.presentation",
                  "languages": [
                    "eng"
                  ],
                  "last_modified": "2025-07-08T14:03:14",
                  "page_number": 4
                },
                "text": "",
                "type": "PageBreak"
              },
              {
                "element_id": "52495fa5428ddf98d3d4ea7b14ae8f89",
                "metadata": {
                  "category_depth": 0,
                  "file_directory": "/content",
                  "filename": "Hofstede’s Cultural Dimensions.pptx",
                  "filetype": "application/vnd.openxmlformats-officedocument.presentationml.presentation",
                  "languages": [
                    "eng"
                  ],
                  "last_modified": "2025-07-08T14:03:14",
                  "page_number": 5
                },
                "text": "Hofstede's Six Cultural Dimensions",
                "type": "Title"
              },
              {
                "element_id": "90bdb51d500ab8f9222de79c1ab45a96",
                "metadata": {
                  "category_depth": 1,
                  "file_directory": "/content",
                  "filename": "Hofstede’s Cultural Dimensions.pptx",
                  "filetype": "application/vnd.openxmlformats-officedocument.presentationml.presentation",
                  "languages": [
                    "eng"
                  ],
                  "last_modified": "2025-07-08T14:03:14",
                  "page_number": 5,
                  "parent_id": "52495fa5428ddf98d3d4ea7b14ae8f89"
                },
                "text": "Power Distance Index (PDI)",
                "type": "Title"
              },
              {
                "element_id": "fccdce36029acfa7e82a4b480808297b",
                "metadata": {
                  "category_depth": 1,
                  "file_directory": "/content",
                  "filename": "Hofstede’s Cultural Dimensions.pptx",
                  "filetype": "application/vnd.openxmlformats-officedocument.presentationml.presentation",
                  "languages": [
                    "eng"
                  ],
                  "last_modified": "2025-07-08T14:03:14",
                  "page_number": 5,
                  "parent_id": "52495fa5428ddf98d3d4ea7b14ae8f89"
                },
                "text": "Long-Term vs. Short-Term Orientation(LTO)",
                "type": "Title"
              },
              {
                "element_id": "4193e6755b3166ddc6bcbac30ef1e2fc",
                "metadata": {
                  "category_depth": 0,
                  "file_directory": "/content",
                  "filename": "Hofstede’s Cultural Dimensions.pptx",
                  "filetype": "application/vnd.openxmlformats-officedocument.presentationml.presentation",
                  "languages": [
                    "eng"
                  ],
                  "last_modified": "2025-07-08T14:03:14",
                  "page_number": 5,
                  "parent_id": "fccdce36029acfa7e82a4b480808297b"
                },
                "text": "01",
                "type": "UncategorizedText"
              },
              {
                "element_id": "21857e2b0d1285171e52f61ce4aa7e68",
                "metadata": {
                  "category_depth": 0,
                  "file_directory": "/content",
                  "filename": "Hofstede’s Cultural Dimensions.pptx",
                  "filetype": "application/vnd.openxmlformats-officedocument.presentationml.presentation",
                  "languages": [
                    "eng"
                  ],
                  "last_modified": "2025-07-08T14:03:14",
                  "page_number": 5,
                  "parent_id": "fccdce36029acfa7e82a4b480808297b"
                },
                "text": "04",
                "type": "UncategorizedText"
              },
              {
                "element_id": "8bed3ffbc7f8b2d0d539d61abc614c2a",
                "metadata": {
                  "category_depth": 1,
                  "file_directory": "/content",
                  "filename": "Hofstede’s Cultural Dimensions.pptx",
                  "filetype": "application/vnd.openxmlformats-officedocument.presentationml.presentation",
                  "languages": [
                    "eng"
                  ],
                  "last_modified": "2025-07-08T14:03:14",
                  "page_number": 5,
                  "parent_id": "52495fa5428ddf98d3d4ea7b14ae8f89"
                },
                "text": "Individualism vs. Collectivism (IDV)",
                "type": "Title"
              },
              {
                "element_id": "498973922ec39998213c9224759b8414",
                "metadata": {
                  "category_depth": 1,
                  "file_directory": "/content",
                  "filename": "Hofstede’s Cultural Dimensions.pptx",
                  "filetype": "application/vnd.openxmlformats-officedocument.presentationml.presentation",
                  "languages": [
                    "eng"
                  ],
                  "last_modified": "2025-07-08T14:03:14",
                  "page_number": 5,
                  "parent_id": "52495fa5428ddf98d3d4ea7b14ae8f89"
                },
                "text": "Uncertainty Avoidance Index (UAI)",
                "type": "Title"
              },
              {
                "element_id": "230b9406b9d893890f7a67a51880e989",
                "metadata": {
                  "category_depth": 0,
                  "file_directory": "/content",
                  "filename": "Hofstede’s Cultural Dimensions.pptx",
                  "filetype": "application/vnd.openxmlformats-officedocument.presentationml.presentation",
                  "languages": [
                    "eng"
                  ],
                  "last_modified": "2025-07-08T14:03:14",
                  "page_number": 5,
                  "parent_id": "498973922ec39998213c9224759b8414"
                },
                "text": "02",
                "type": "UncategorizedText"
              },
              {
                "element_id": "dffb871cbb69141cb4b0c828e3740efd",
                "metadata": {
                  "category_depth": 0,
                  "file_directory": "/content",
                  "filename": "Hofstede’s Cultural Dimensions.pptx",
                  "filetype": "application/vnd.openxmlformats-officedocument.presentationml.presentation",
                  "languages": [
                    "eng"
                  ],
                  "last_modified": "2025-07-08T14:03:14",
                  "page_number": 5,
                  "parent_id": "498973922ec39998213c9224759b8414"
                },
                "text": "05",
                "type": "UncategorizedText"
              },
              {
                "element_id": "2b9510b329868d796418b63d3bb8385b",
                "metadata": {
                  "category_depth": 1,
                  "file_directory": "/content",
                  "filename": "Hofstede’s Cultural Dimensions.pptx",
                  "filetype": "application/vnd.openxmlformats-officedocument.presentationml.presentation",
                  "languages": [
                    "eng"
                  ],
                  "last_modified": "2025-07-08T14:03:14",
                  "page_number": 5,
                  "parent_id": "52495fa5428ddf98d3d4ea7b14ae8f89"
                },
                "text": "Femininity vs Masculinity (MAS)",
                "type": "Title"
              },
              {
                "element_id": "dca717f25d4699ff6dd23dd925d0f5d6",
                "metadata": {
                  "category_depth": 1,
                  "file_directory": "/content",
                  "filename": "Hofstede’s Cultural Dimensions.pptx",
                  "filetype": "application/vnd.openxmlformats-officedocument.presentationml.presentation",
                  "languages": [
                    "eng"
                  ],
                  "last_modified": "2025-07-08T14:03:14",
                  "page_number": 5,
                  "parent_id": "52495fa5428ddf98d3d4ea7b14ae8f89"
                },
                "text": "Indulgence vs. Restraint (IVR)",
                "type": "Title"
              },
              {
                "element_id": "eeae6f33e484ba283f0c791e7b6c1a74",
                "metadata": {
                  "category_depth": 0,
                  "file_directory": "/content",
                  "filename": "Hofstede’s Cultural Dimensions.pptx",
                  "filetype": "application/vnd.openxmlformats-officedocument.presentationml.presentation",
                  "languages": [
                    "eng"
                  ],
                  "last_modified": "2025-07-08T14:03:14",
                  "page_number": 5,
                  "parent_id": "dca717f25d4699ff6dd23dd925d0f5d6"
                },
                "text": "03",
                "type": "UncategorizedText"
              },
              {
                "element_id": "b507e621a7aae7a3847746dbcca64901",
                "metadata": {
                  "category_depth": 0,
                  "file_directory": "/content",
                  "filename": "Hofstede’s Cultural Dimensions.pptx",
                  "filetype": "application/vnd.openxmlformats-officedocument.presentationml.presentation",
                  "languages": [
                    "eng"
                  ],
                  "last_modified": "2025-07-08T14:03:14",
                  "page_number": 5,
                  "parent_id": "dca717f25d4699ff6dd23dd925d0f5d6"
                },
                "text": "06",
                "type": "UncategorizedText"
              },
              {
                "element_id": "df6cd899762074cc43a78dd3bf2e5b22",
                "metadata": {
                  "file_directory": "/content",
                  "filename": "Hofstede’s Cultural Dimensions.pptx",
                  "filetype": "application/vnd.openxmlformats-officedocument.presentationml.presentation",
                  "languages": [
                    "eng"
                  ],
                  "last_modified": "2025-07-08T14:03:14",
                  "page_number": 5
                },
                "text": "",
                "type": "PageBreak"
              },
              {
                "element_id": "cc9a4599ea6dc8574a766dde675dc468",
                "metadata": {
                  "category_depth": 0,
                  "file_directory": "/content",
                  "filename": "Hofstede’s Cultural Dimensions.pptx",
                  "filetype": "application/vnd.openxmlformats-officedocument.presentationml.presentation",
                  "languages": [
                    "eng"
                  ],
                  "last_modified": "2025-07-08T14:03:14",
                  "page_number": 6
                },
                "text": "01",
                "type": "UncategorizedText"
              },
              {
                "element_id": "33418d25d813f78046662e9090318dab",
                "metadata": {
                  "category_depth": 0,
                  "file_directory": "/content",
                  "filename": "Hofstede’s Cultural Dimensions.pptx",
                  "filetype": "application/vnd.openxmlformats-officedocument.presentationml.presentation",
                  "languages": [
                    "eng"
                  ],
                  "last_modified": "2025-07-08T14:03:14",
                  "page_number": 6
                },
                "text": "Power Distance Index(PDI)",
                "type": "Title"
              },
              {
                "element_id": "322f53511612c377bba00e26cd1f1727",
                "metadata": {
                  "file_directory": "/content",
                  "filename": "Hofstede’s Cultural Dimensions.pptx",
                  "filetype": "application/vnd.openxmlformats-officedocument.presentationml.presentation",
                  "languages": [
                    "eng"
                  ],
                  "last_modified": "2025-07-08T14:03:14",
                  "page_number": 6
                },
                "text": "",
                "type": "PageBreak"
              },
              {
                "element_id": "2820671ae5a8cc0d463079c1c08c2bd5",
                "metadata": {
                  "category_depth": 0,
                  "file_directory": "/content",
                  "filename": "Hofstede’s Cultural Dimensions.pptx",
                  "filetype": "application/vnd.openxmlformats-officedocument.presentationml.presentation",
                  "languages": [
                    "eng"
                  ],
                  "last_modified": "2025-07-08T14:03:14",
                  "page_number": 7
                },
                "text": "1. Power Distance (PDI) refers to the degree to which individuals in a society accept and expect unequal power distribution within organizations, institutions, and relationships. ",
                "type": "NarrativeText"
              },
              {
                "element_id": "ee6af1e5011cdc867995fd1b7188f558",
                "metadata": {
                  "category_depth": 0,
                  "file_directory": "/content",
                  "filename": "Hofstede’s Cultural Dimensions.pptx",
                  "filetype": "application/vnd.openxmlformats-officedocument.presentationml.presentation",
                  "languages": [
                    "eng"
                  ],
                  "last_modified": "2025-07-08T14:03:14",
                  "page_number": 7
                },
                "text": "This dimension highlights how societal values shape interactions between leaders and followers, influencing organizational structure and behavior. \t",
                "type": "NarrativeText"
              },
              {
                "element_id": "5b0c32fdbd9c8557d7d3c01cdef8e193",
                "metadata": {
                  "category_depth": 0,
                  "file_directory": "/content",
                  "filename": "Hofstede’s Cultural Dimensions.pptx",
                  "filetype": "application/vnd.openxmlformats-officedocument.presentationml.presentation",
                  "languages": [
                    "eng"
                  ],
                  "last_modified": "2025-07-08T14:03:14",
                  "page_number": 7
                },
                "text": "In cultures with high power distance, they are Strong hierarchy, centralized decision-making, authority figures hold significant influence, and subordinates rarely challenge decisions (e.g., Malaysia). ",
                "type": "ListItem"
              },
              {
                "element_id": "a19109dedc4d132ab17baef9346df261",
                "metadata": {
                  "category_depth": 0,
                  "file_directory": "/content",
                  "filename": "Hofstede’s Cultural Dimensions.pptx",
                  "filetype": "application/vnd.openxmlformats-officedocument.presentationml.presentation",
                  "languages": [
                    "eng"
                  ],
                  "last_modified": "2025-07-08T14:03:14",
                  "page_number": 7
                },
                "text": "Conversely, cultures with low power distance value equality, encourage open communication, and promote participatory decision-making (e.g., Austria). ",
                "type": "ListItem"
              },
              {
                "element_id": "837148de30aee8382826925d69eb4f3a",
                "metadata": {
                  "category_depth": 0,
                  "file_directory": "/content",
                  "filename": "Hofstede’s Cultural Dimensions.pptx",
                  "filetype": "application/vnd.openxmlformats-officedocument.presentationml.presentation",
                  "languages": [
                    "eng"
                  ],
                  "last_modified": "2025-07-08T14:03:14",
                  "page_number": 7
                },
                "text": "01",
                "type": "UncategorizedText"
              },
              {
                "element_id": "fe429d1c833534232262142c975ada50",
                "metadata": {
                  "file_directory": "/content",
                  "filename": "Hofstede’s Cultural Dimensions.pptx",
                  "filetype": "application/vnd.openxmlformats-officedocument.presentationml.presentation",
                  "languages": [
                    "eng"
                  ],
                  "last_modified": "2025-07-08T14:03:14",
                  "page_number": 7
                },
                "text": "",
                "type": "PageBreak"
              },
              {
                "element_id": "33249e631528d06de1d3166221fc2f4d",
                "metadata": {
                  "category_depth": 0,
                  "file_directory": "/content",
                  "filename": "Hofstede’s Cultural Dimensions.pptx",
                  "filetype": "application/vnd.openxmlformats-officedocument.presentationml.presentation",
                  "languages": [
                    "eng"
                  ],
                  "last_modified": "2025-07-08T14:03:14",
                  "page_number": 8
                },
                "text": "02",
                "type": "UncategorizedText"
              },
              {
                "element_id": "b2191ec68dfe63fb681490cacb8d7606",
                "metadata": {
                  "category_depth": 0,
                  "file_directory": "/content",
                  "filename": "Hofstede’s Cultural Dimensions.pptx",
                  "filetype": "application/vnd.openxmlformats-officedocument.presentationml.presentation",
                  "languages": [
                    "eng"
                  ],
                  "last_modified": "2025-07-08T14:03:14",
                  "page_number": 8
                },
                "text": "Malaysia\u000bhigh",
                "type": "Title"
              },
              {
                "element_id": "2a1093bef0302903f28146a7e3c4b23e",
                "metadata": {
                  "category_depth": 1,
                  "file_directory": "/content",
                  "filename": "Hofstede’s Cultural Dimensions.pptx",
                  "filetype": "application/vnd.openxmlformats-officedocument.presentationml.presentation",
                  "languages": [
                    "eng"
                  ],
                  "last_modified": "2025-07-08T14:03:14",
                  "page_number": 8,
                  "parent_id": "b2191ec68dfe63fb681490cacb8d7606"
                },
                "text": "Austria\u000blow",
                "type": "Title"
              },
              {
                "element_id": "43a75d65bcec1571d77421a72b275231",
                "metadata": {
                  "file_directory": "/content",
                  "filename": "Hofstede’s Cultural Dimensions.pptx",
                  "filetype": "application/vnd.openxmlformats-officedocument.presentationml.presentation",
                  "languages": [
                    "eng"
                  ],
                  "last_modified": "2025-07-08T14:03:14",
                  "page_number": 8
                },
                "text": "",
                "type": "PageBreak"
              },
              {
                "element_id": "28b34937131c3c8c87137d389a140b28",
                "metadata": {
                  "category_depth": 0,
                  "file_directory": "/content",
                  "filename": "Hofstede’s Cultural Dimensions.pptx",
                  "filetype": "application/vnd.openxmlformats-officedocument.presentationml.presentation",
                  "languages": [
                    "eng"
                  ],
                  "last_modified": "2025-07-08T14:03:14",
                  "page_number": 9
                },
                "text": "02",
                "type": "UncategorizedText"
              },
              {
                "element_id": "7088e1591003498ce27c050dd56719e0",
                "metadata": {
                  "category_depth": 0,
                  "file_directory": "/content",
                  "filename": "Hofstede’s Cultural Dimensions.pptx",
                  "filetype": "application/vnd.openxmlformats-officedocument.presentationml.presentation",
                  "languages": [
                    "eng"
                  ],
                  "last_modified": "2025-07-08T14:03:14",
                  "page_number": 9
                },
                "text": "Individualism\u000bvs. Collectivism\u000b(IDV)\u000b",
                "type": "Title"
              },
              {
                "element_id": "f0743fa3f757469163220a77f7a978bf",
                "metadata": {
                  "file_directory": "/content",
                  "filename": "Hofstede’s Cultural Dimensions.pptx",
                  "filetype": "application/vnd.openxmlformats-officedocument.presentationml.presentation",
                  "languages": [
                    "eng"
                  ],
                  "last_modified": "2025-07-08T14:03:14",
                  "page_number": 9
                },
                "text": "",
                "type": "PageBreak"
              },
              {
                "element_id": "9b2eb3f232b00b48f6310997a4d1c276",
                "metadata": {
                  "category_depth": 0,
                  "file_directory": "/content",
                  "filename": "Hofstede’s Cultural Dimensions.pptx",
                  "filetype": "application/vnd.openxmlformats-officedocument.presentationml.presentation",
                  "languages": [
                    "eng"
                  ],
                  "last_modified": "2025-07-08T14:03:14",
                  "page_number": 10
                },
                "text": "2. Individualism vs. Collectivism (IDV): Individualism vs. Collectivism (IDV) reflects whether a society prioritizes individual goals or group interests.\u000bThis dimension shapes interpersonal relationships, decision-making, and social behavior.",
                "type": "NarrativeText"
              },
              {
                "element_id": "04059b7ced4e60cb7bca890de9255870",
                "metadata": {
                  "category_depth": 0,
                  "file_directory": "/content",
                  "filename": "Hofstede’s Cultural Dimensions.pptx",
                  "filetype": "application/vnd.openxmlformats-officedocument.presentationml.presentation",
                  "languages": [
                    "eng"
                  ],
                  "last_modified": "2025-07-08T14:03:14",
                  "page_number": 10
                },
                "text": "In individualist cultures, people emphasize self-reliance, personal achievements, and individual rights (e.g., USA).",
                "type": "ListItem"
              },
              {
                "element_id": "6336a2766149fc0eb6aafecbafc48466",
                "metadata": {
                  "category_depth": 0,
                  "file_directory": "/content",
                  "filename": "Hofstede’s Cultural Dimensions.pptx",
                  "filetype": "application/vnd.openxmlformats-officedocument.presentationml.presentation",
                  "languages": [
                    "eng"
                  ],
                  "last_modified": "2025-07-08T14:03:14",
                  "page_number": 10
                },
                "text": "In collectivist cultures, group loyalty, shared responsibilities, and community support are valued (e.g., Ecuador).",
                "type": "ListItem"
              },
              {
                "element_id": "7483167d9a927d78cd1ba88d68fc32c5",
                "metadata": {
                  "category_depth": 0,
                  "file_directory": "/content",
                  "filename": "Hofstede’s Cultural Dimensions.pptx",
                  "filetype": "application/vnd.openxmlformats-officedocument.presentationml.presentation",
                  "languages": [
                    "eng"
                  ],
                  "last_modified": "2025-07-08T14:03:14",
                  "page_number": 10
                },
                "text": "01",
                "type": "UncategorizedText"
              },
              {
                "element_id": "f374d3a68579f616445821170d5f89bb",
                "metadata": {
                  "file_directory": "/content",
                  "filename": "Hofstede’s Cultural Dimensions.pptx",
                  "filetype": "application/vnd.openxmlformats-officedocument.presentationml.presentation",
                  "languages": [
                    "eng"
                  ],
                  "last_modified": "2025-07-08T14:03:14",
                  "page_number": 10
                },
                "text": "",
                "type": "PageBreak"
              },
              {
                "element_id": "d05903b3f74511ce7d318c464db6ff8a",
                "metadata": {
                  "category_depth": 0,
                  "file_directory": "/content",
                  "filename": "Hofstede’s Cultural Dimensions.pptx",
                  "filetype": "application/vnd.openxmlformats-officedocument.presentationml.presentation",
                  "languages": [
                    "eng"
                  ],
                  "last_modified": "2025-07-08T14:03:14",
                  "page_number": 11
                },
                "text": "02",
                "type": "UncategorizedText"
              },
              {
                "element_id": "25cda1a2f099f170b760aabfc27a9c6a",
                "metadata": {
                  "category_depth": 0,
                  "file_directory": "/content",
                  "filename": "Hofstede’s Cultural Dimensions.pptx",
                  "filetype": "application/vnd.openxmlformats-officedocument.presentationml.presentation",
                  "languages": [
                    "eng"
                  ],
                  "last_modified": "2025-07-08T14:03:14",
                  "page_number": 11
                },
                "text": "Ecuador\u000bhigh",
                "type": "Title"
              },
              {
                "element_id": "2a10b8963772ef2a66cd545ea2cb827e",
                "metadata": {
                  "category_depth": 1,
                  "file_directory": "/content",
                  "filename": "Hofstede’s Cultural Dimensions.pptx",
                  "filetype": "application/vnd.openxmlformats-officedocument.presentationml.presentation",
                  "languages": [
                    "eng"
                  ],
                  "last_modified": "2025-07-08T14:03:14",
                  "page_number": 11,
                  "parent_id": "25cda1a2f099f170b760aabfc27a9c6a"
                },
                "text": "USA\u000blow",
                "type": "Title"
              },
              {
                "element_id": "93f4aa00ff47e8c3c3f2b0592b941e94",
                "metadata": {
                  "file_directory": "/content",
                  "filename": "Hofstede’s Cultural Dimensions.pptx",
                  "filetype": "application/vnd.openxmlformats-officedocument.presentationml.presentation",
                  "languages": [
                    "eng"
                  ],
                  "last_modified": "2025-07-08T14:03:14",
                  "page_number": 11
                },
                "text": "",
                "type": "PageBreak"
              },
              {
                "element_id": "a1d7501c383b7fd1b4b28320805bef36",
                "metadata": {
                  "category_depth": 0,
                  "file_directory": "/content",
                  "filename": "Hofstede’s Cultural Dimensions.pptx",
                  "filetype": "application/vnd.openxmlformats-officedocument.presentationml.presentation",
                  "languages": [
                    "eng"
                  ],
                  "last_modified": "2025-07-08T14:03:14",
                  "page_number": 12
                },
                "text": "03",
                "type": "UncategorizedText"
              },
              {
                "element_id": "e6b00573134bcdfc0b395a38a4924336",
                "metadata": {
                  "category_depth": 0,
                  "file_directory": "/content",
                  "filename": "Hofstede’s Cultural Dimensions.pptx",
                  "filetype": "application/vnd.openxmlformats-officedocument.presentationml.presentation",
                  "languages": [
                    "eng"
                  ],
                  "last_modified": "2025-07-08T14:03:14",
                  "page_number": 12
                },
                "text": "Femininity vs Masculinity\u000b(MAS)\u000b\u000b",
                "type": "Title"
              },
              {
                "element_id": "fcafd914643acded0b6424b0aee58524",
                "metadata": {
                  "file_directory": "/content",
                  "filename": "Hofstede’s Cultural Dimensions.pptx",
                  "filetype": "application/vnd.openxmlformats-officedocument.presentationml.presentation",
                  "languages": [
                    "eng"
                  ],
                  "last_modified": "2025-07-08T14:03:14",
                  "page_number": 12
                },
                "text": "",
                "type": "PageBreak"
              },
              {
                "element_id": "bdef2c30852c6415003f1828609868ab",
                "metadata": {
                  "category_depth": 0,
                  "file_directory": "/content",
                  "filename": "Hofstede’s Cultural Dimensions.pptx",
                  "filetype": "application/vnd.openxmlformats-officedocument.presentationml.presentation",
                  "languages": [
                    "eng"
                  ],
                  "last_modified": "2025-07-08T14:03:14",
                  "page_number": 13
                },
                "text": "3. Masculinity vs. Femininity (MAS): Masculinity vs. Femininity (MAS) examines whether a culture values competition and success or care and quality of life.\u000bThis dimension influences societal norms, gender roles, and workplace dynamics.",
                "type": "NarrativeText"
              },
              {
                "element_id": "8ac318447e373bd5f33cdaca47961aa5",
                "metadata": {
                  "category_depth": 0,
                  "file_directory": "/content",
                  "filename": "Hofstede’s Cultural Dimensions.pptx",
                  "filetype": "application/vnd.openxmlformats-officedocument.presentationml.presentation",
                  "languages": [
                    "eng"
                  ],
                  "last_modified": "2025-07-08T14:03:14",
                  "page_number": 13
                },
                "text": "Masculine cultures emphasize ambition, performance, and material success (e.g., Japan).",
                "type": "ListItem"
              },
              {
                "element_id": "6bcd16abfd170db36820f012b9046566",
                "metadata": {
                  "category_depth": 0,
                  "file_directory": "/content",
                  "filename": "Hofstede’s Cultural Dimensions.pptx",
                  "filetype": "application/vnd.openxmlformats-officedocument.presentationml.presentation",
                  "languages": [
                    "eng"
                  ],
                  "last_modified": "2025-07-08T14:03:14",
                  "page_number": 13
                },
                "text": "Feminine cultures prioritize relationships, equality, and well-being (e.g., Sweden).",
                "type": "ListItem"
              },
              {
                "element_id": "1959bcb768e6939d1526daf98d222217",
                "metadata": {
                  "category_depth": 0,
                  "file_directory": "/content",
                  "filename": "Hofstede’s Cultural Dimensions.pptx",
                  "filetype": "application/vnd.openxmlformats-officedocument.presentationml.presentation",
                  "languages": [
                    "eng"
                  ],
                  "last_modified": "2025-07-08T14:03:14",
                  "page_number": 13
                },
                "text": "01",
                "type": "UncategorizedText"
              },
              {
                "element_id": "5bb1b4892ed27af7d808961f9bcae998",
                "metadata": {
                  "file_directory": "/content",
                  "filename": "Hofstede’s Cultural Dimensions.pptx",
                  "filetype": "application/vnd.openxmlformats-officedocument.presentationml.presentation",
                  "languages": [
                    "eng"
                  ],
                  "last_modified": "2025-07-08T14:03:14",
                  "page_number": 13
                },
                "text": "",
                "type": "PageBreak"
              },
              {
                "element_id": "19e63254378e0343c85b769905a316f3",
                "metadata": {
                  "category_depth": 1,
                  "file_directory": "/content",
                  "filename": "Hofstede’s Cultural Dimensions.pptx",
                  "filetype": "application/vnd.openxmlformats-officedocument.presentationml.presentation",
                  "languages": [
                    "eng"
                  ],
                  "last_modified": "2025-07-08T14:03:14",
                  "page_number": 14
                },
                "text": "Sweden\u000blow",
                "type": "Title"
              },
              {
                "element_id": "ee9dbc62d45fee66a9dd433f6e875fc6",
                "metadata": {
                  "category_depth": 0,
                  "file_directory": "/content",
                  "filename": "Hofstede’s Cultural Dimensions.pptx",
                  "filetype": "application/vnd.openxmlformats-officedocument.presentationml.presentation",
                  "languages": [
                    "eng"
                  ],
                  "last_modified": "2025-07-08T14:03:14",
                  "page_number": 14
                },
                "text": "Japan\u000bhigh",
                "type": "Title"
              },
              {
                "element_id": "6d8e47c44c3746051ad5985d2aafadb6",
                "metadata": {
                  "file_directory": "/content",
                  "filename": "Hofstede’s Cultural Dimensions.pptx",
                  "filetype": "application/vnd.openxmlformats-officedocument.presentationml.presentation",
                  "languages": [
                    "eng"
                  ],
                  "last_modified": "2025-07-08T14:03:14",
                  "page_number": 14
                },
                "text": "",
                "type": "PageBreak"
              },
              {
                "element_id": "a5eede4f7adc46d453317289db93b44f",
                "metadata": {
                  "category_depth": 0,
                  "file_directory": "/content",
                  "filename": "Hofstede’s Cultural Dimensions.pptx",
                  "filetype": "application/vnd.openxmlformats-officedocument.presentationml.presentation",
                  "languages": [
                    "eng"
                  ],
                  "last_modified": "2025-07-08T14:03:14",
                  "page_number": 15
                },
                "text": "04",
                "type": "UncategorizedText"
              },
              {
                "element_id": "1abd29c866327d87c6d6bb3ba7f129a9",
                "metadata": {
                  "category_depth": 0,
                  "file_directory": "/content",
                  "filename": "Hofstede’s Cultural Dimensions.pptx",
                  "filetype": "application/vnd.openxmlformats-officedocument.presentationml.presentation",
                  "languages": [
                    "eng"
                  ],
                  "last_modified": "2025-07-08T14:03:14",
                  "page_number": 15
                },
                "text": "Long-Term \u000bvs. Short-Term Orientation\u000b(LTO)\u000b",
                "type": "Title"
              },
              {
                "element_id": "c1431fb6daff58f43b1f74cd4f6ee625",
                "metadata": {
                  "file_directory": "/content",
                  "filename": "Hofstede’s Cultural Dimensions.pptx",
                  "filetype": "application/vnd.openxmlformats-officedocument.presentationml.presentation",
                  "languages": [
                    "eng"
                  ],
                  "last_modified": "2025-07-08T14:03:14",
                  "page_number": 15
                },
                "text": "",
                "type": "PageBreak"
              },
              {
                "element_id": "05d994365eefd188a2b44a089c47a331",
                "metadata": {
                  "category_depth": 0,
                  "file_directory": "/content",
                  "filename": "Hofstede’s Cultural Dimensions.pptx",
                  "filetype": "application/vnd.openxmlformats-officedocument.presentationml.presentation",
                  "languages": [
                    "eng"
                  ],
                  "last_modified": "2025-07-08T14:03:14",
                  "page_number": 16
                },
                "text": "4. Long-term vs. Short-term Orientation (LTO): Long-term vs. Short-term Orientation (LTO) reflects whether a culture focuses on future rewards or present values.\u000bThis dimension shapes attitudes toward planning, perseverance, and traditions.",
                "type": "NarrativeText"
              },
              {
                "element_id": "371189f59b9ab6f18d25bb39145ee0e0",
                "metadata": {
                  "category_depth": 0,
                  "file_directory": "/content",
                  "filename": "Hofstede’s Cultural Dimensions.pptx",
                  "filetype": "application/vnd.openxmlformats-officedocument.presentationml.presentation",
                  "languages": [
                    "eng"
                  ],
                  "last_modified": "2025-07-08T14:03:14",
                  "page_number": 16
                },
                "text": "Long-term oriented cultures emphasize sustainability, education, and long-term goals (e.g., South Korea).",
                "type": "ListItem"
              },
              {
                "element_id": "6580ce4ddb5bb1774b16fd97abb46737",
                "metadata": {
                  "category_depth": 0,
                  "file_directory": "/content",
                  "filename": "Hofstede’s Cultural Dimensions.pptx",
                  "filetype": "application/vnd.openxmlformats-officedocument.presentationml.presentation",
                  "languages": [
                    "eng"
                  ],
                  "last_modified": "2025-07-08T14:03:14",
                  "page_number": 16
                },
                "text": "Short-term oriented cultures prioritize traditions, quick results, and fulfilling social obligations (e.g., Pakistan).",
                "type": "ListItem"
              },
              {
                "element_id": "319e7ade983176e082d27430a0aade36",
                "metadata": {
                  "category_depth": 0,
                  "file_directory": "/content",
                  "filename": "Hofstede’s Cultural Dimensions.pptx",
                  "filetype": "application/vnd.openxmlformats-officedocument.presentationml.presentation",
                  "languages": [
                    "eng"
                  ],
                  "last_modified": "2025-07-08T14:03:14",
                  "page_number": 16
                },
                "text": "01",
                "type": "UncategorizedText"
              },
              {
                "element_id": "5a3ce5995bb6a017d97557ac72e2e46d",
                "metadata": {
                  "file_directory": "/content",
                  "filename": "Hofstede’s Cultural Dimensions.pptx",
                  "filetype": "application/vnd.openxmlformats-officedocument.presentationml.presentation",
                  "languages": [
                    "eng"
                  ],
                  "last_modified": "2025-07-08T14:03:14",
                  "page_number": 16
                },
                "text": "",
                "type": "PageBreak"
              },
              {
                "element_id": "97967d75799f54c002623da4b13b8dab",
                "metadata": {
                  "category_depth": 1,
                  "file_directory": "/content",
                  "filename": "Hofstede’s Cultural Dimensions.pptx",
                  "filetype": "application/vnd.openxmlformats-officedocument.presentationml.presentation",
                  "languages": [
                    "eng"
                  ],
                  "last_modified": "2025-07-08T14:03:14",
                  "page_number": 17
                },
                "text": "Pakistan\u000blow",
                "type": "Title"
              },
              {
                "element_id": "43c7005b9d648eb5e9bc54f0502f01d5",
                "metadata": {
                  "category_depth": 0,
                  "file_directory": "/content",
                  "filename": "Hofstede’s Cultural Dimensions.pptx",
                  "filetype": "application/vnd.openxmlformats-officedocument.presentationml.presentation",
                  "languages": [
                    "eng"
                  ],
                  "last_modified": "2025-07-08T14:03:14",
                  "page_number": 17
                },
                "text": "South Korea\u000bhigh",
                "type": "Title"
              },
              {
                "element_id": "187d59bcbeeec5e9755b3e484e3f6f2d",
                "metadata": {
                  "file_directory": "/content",
                  "filename": "Hofstede’s Cultural Dimensions.pptx",
                  "filetype": "application/vnd.openxmlformats-officedocument.presentationml.presentation",
                  "languages": [
                    "eng"
                  ],
                  "last_modified": "2025-07-08T14:03:14",
                  "page_number": 17
                },
                "text": "",
                "type": "PageBreak"
              },
              {
                "element_id": "97ee474ba60a57d7579072f6d268e108",
                "metadata": {
                  "category_depth": 0,
                  "file_directory": "/content",
                  "filename": "Hofstede’s Cultural Dimensions.pptx",
                  "filetype": "application/vnd.openxmlformats-officedocument.presentationml.presentation",
                  "languages": [
                    "eng"
                  ],
                  "last_modified": "2025-07-08T14:03:14",
                  "page_number": 18
                },
                "text": "05",
                "type": "UncategorizedText"
              },
              {
                "element_id": "1eccb2dbb9b5534734a10fa852d15aa0",
                "metadata": {
                  "category_depth": 0,
                  "file_directory": "/content",
                  "filename": "Hofstede’s Cultural Dimensions.pptx",
                  "filetype": "application/vnd.openxmlformats-officedocument.presentationml.presentation",
                  "languages": [
                    "eng"
                  ],
                  "last_modified": "2025-07-08T14:03:14",
                  "page_number": 18
                },
                "text": "Uncertainty Avoidance Index (UAI)",
                "type": "Title"
              },
              {
                "element_id": "139ac8a3afc7ffe4e2f37b1bd76a3bed",
                "metadata": {
                  "file_directory": "/content",
                  "filename": "Hofstede’s Cultural Dimensions.pptx",
                  "filetype": "application/vnd.openxmlformats-officedocument.presentationml.presentation",
                  "languages": [
                    "eng"
                  ],
                  "last_modified": "2025-07-08T14:03:14",
                  "page_number": 18
                },
                "text": "",
                "type": "PageBreak"
              },
              {
                "element_id": "b6d8c3b9349e607a9886900383da8032",
                "metadata": {
                  "category_depth": 0,
                  "file_directory": "/content",
                  "filename": "Hofstede’s Cultural Dimensions.pptx",
                  "filetype": "application/vnd.openxmlformats-officedocument.presentationml.presentation",
                  "languages": [
                    "eng"
                  ],
                  "last_modified": "2025-07-08T14:03:14",
                  "page_number": 19
                },
                "text": "01",
                "type": "UncategorizedText"
              },
              {
                "element_id": "f1288945c575cf908620751978f1015e",
                "metadata": {
                  "category_depth": 0,
                  "file_directory": "/content",
                  "filename": "Hofstede’s Cultural Dimensions.pptx",
                  "filetype": "application/vnd.openxmlformats-officedocument.presentationml.presentation",
                  "languages": [
                    "eng"
                  ],
                  "last_modified": "2025-07-08T14:03:14",
                  "page_number": 19
                },
                "text": "5. Uncertainty Avoidance (UAI): Uncertainty Avoidance (UAI) represents a society’s tolerance for ambiguity and risk.\u000bThis dimension affects attitudes toward innovation, structure, and change.",
                "type": "NarrativeText"
              },
              {
                "element_id": "df0fefc09e5c3bc486f653d2ab1dba97",
                "metadata": {
                  "category_depth": 0,
                  "file_directory": "/content",
                  "filename": "Hofstede’s Cultural Dimensions.pptx",
                  "filetype": "application/vnd.openxmlformats-officedocument.presentationml.presentation",
                  "languages": [
                    "eng"
                  ],
                  "last_modified": "2025-07-08T14:03:14",
                  "page_number": 19
                },
                "text": "High uncertainty avoidance cultures prefer strict rules, detailed planning, and stability (e.g., Greece).",
                "type": "ListItem"
              },
              {
                "element_id": "30321f8ced0475103a08404431f10006",
                "metadata": {
                  "category_depth": 0,
                  "file_directory": "/content",
                  "filename": "Hofstede’s Cultural Dimensions.pptx",
                  "filetype": "application/vnd.openxmlformats-officedocument.presentationml.presentation",
                  "languages": [
                    "eng"
                  ],
                  "last_modified": "2025-07-08T14:03:14",
                  "page_number": 19
                },
                "text": "Low uncertainty avoidance cultures embrace flexibility, creativity, and risk-taking (e.g., Singapore).",
                "type": "ListItem"
              },
              {
                "element_id": "9a87cdfaa0d1ad99cd9b19c90c46e827",
                "metadata": {
                  "file_directory": "/content",
                  "filename": "Hofstede’s Cultural Dimensions.pptx",
                  "filetype": "application/vnd.openxmlformats-officedocument.presentationml.presentation",
                  "languages": [
                    "eng"
                  ],
                  "last_modified": "2025-07-08T14:03:14",
                  "page_number": 19
                },
                "text": "",
                "type": "PageBreak"
              },
              {
                "element_id": "70746abec3bb8840b1a8233f965f5e29",
                "metadata": {
                  "category_depth": 0,
                  "file_directory": "/content",
                  "filename": "Hofstede’s Cultural Dimensions.pptx",
                  "filetype": "application/vnd.openxmlformats-officedocument.presentationml.presentation",
                  "languages": [
                    "eng"
                  ],
                  "last_modified": "2025-07-08T14:03:14",
                  "page_number": 20
                },
                "text": "Greece\u000bhigh",
                "type": "Title"
              },
              {
                "element_id": "f485320e8ba2cc4297ffc679f912373a",
                "metadata": {
                  "category_depth": 1,
                  "file_directory": "/content",
                  "filename": "Hofstede’s Cultural Dimensions.pptx",
                  "filetype": "application/vnd.openxmlformats-officedocument.presentationml.presentation",
                  "languages": [
                    "eng"
                  ],
                  "last_modified": "2025-07-08T14:03:14",
                  "page_number": 20,
                  "parent_id": "70746abec3bb8840b1a8233f965f5e29"
                },
                "text": "Singapore\u000blow",
                "type": "Title"
              },
              {
                "element_id": "7880eb2e422832e4010e756b3577a63a",
                "metadata": {
                  "file_directory": "/content",
                  "filename": "Hofstede’s Cultural Dimensions.pptx",
                  "filetype": "application/vnd.openxmlformats-officedocument.presentationml.presentation",
                  "languages": [
                    "eng"
                  ],
                  "last_modified": "2025-07-08T14:03:14",
                  "page_number": 20
                },
                "text": "",
                "type": "PageBreak"
              },
              {
                "element_id": "259ea6fb78e9ef0b5ca923add8677086",
                "metadata": {
                  "category_depth": 0,
                  "file_directory": "/content",
                  "filename": "Hofstede’s Cultural Dimensions.pptx",
                  "filetype": "application/vnd.openxmlformats-officedocument.presentationml.presentation",
                  "languages": [
                    "eng"
                  ],
                  "last_modified": "2025-07-08T14:03:14",
                  "page_number": 21
                },
                "text": "06",
                "type": "UncategorizedText"
              },
              {
                "element_id": "54a548da46bd2f9f6315ca370b09f27b",
                "metadata": {
                  "category_depth": 0,
                  "file_directory": "/content",
                  "filename": "Hofstede’s Cultural Dimensions.pptx",
                  "filetype": "application/vnd.openxmlformats-officedocument.presentationml.presentation",
                  "languages": [
                    "eng"
                  ],
                  "last_modified": "2025-07-08T14:03:14",
                  "page_number": 21
                },
                "text": "Indulgence vs. Restraint (IVR)\u000b",
                "type": "Title"
              },
              {
                "element_id": "76183c97606fe5d97066d3b85864e466",
                "metadata": {
                  "file_directory": "/content",
                  "filename": "Hofstede’s Cultural Dimensions.pptx",
                  "filetype": "application/vnd.openxmlformats-officedocument.presentationml.presentation",
                  "languages": [
                    "eng"
                  ],
                  "last_modified": "2025-07-08T14:03:14",
                  "page_number": 21
                },
                "text": "",
                "type": "PageBreak"
              },
              {
                "element_id": "3893bd01900c0a366b399d72acbb5038",
                "metadata": {
                  "category_depth": 0,
                  "file_directory": "/content",
                  "filename": "Hofstede’s Cultural Dimensions.pptx",
                  "filetype": "application/vnd.openxmlformats-officedocument.presentationml.presentation",
                  "languages": [
                    "eng"
                  ],
                  "last_modified": "2025-07-08T14:03:14",
                  "page_number": 22
                },
                "text": "6. Indulgence vs. Restraint (IVR): Indulgence vs. Restraint (IVR) measures the degree to which societies allow or restrict enjoyment and gratification.\u000bThis dimension affects lifestyles, optimism, and societal norms.",
                "type": "NarrativeText"
              },
              {
                "element_id": "c151d8504a3f047ddfd48f368ce3c339",
                "metadata": {
                  "category_depth": 0,
                  "file_directory": "/content",
                  "filename": "Hofstede’s Cultural Dimensions.pptx",
                  "filetype": "application/vnd.openxmlformats-officedocument.presentationml.presentation",
                  "languages": [
                    "eng"
                  ],
                  "last_modified": "2025-07-08T14:03:14",
                  "page_number": 22
                },
                "text": "Indulgent cultures value leisure, freedom, and happiness, encouraging self-expression (e.g., Venezuela).",
                "type": "ListItem"
              },
              {
                "element_id": "4cc5484611ed43f50b3fe37e8e788564",
                "metadata": {
                  "category_depth": 0,
                  "file_directory": "/content",
                  "filename": "Hofstede’s Cultural Dimensions.pptx",
                  "filetype": "application/vnd.openxmlformats-officedocument.presentationml.presentation",
                  "languages": [
                    "eng"
                  ],
                  "last_modified": "2025-07-08T14:03:14",
                  "page_number": 22
                },
                "text": "Restrained cultures enforce strict norms, discourage indulgence, and emphasize discipline (e.g., Pakistan).",
                "type": "ListItem"
              },
              {
                "element_id": "19d8027756081809de07eca5aed8a6f9",
                "metadata": {
                  "file_directory": "/content",
                  "filename": "Hofstede’s Cultural Dimensions.pptx",
                  "filetype": "application/vnd.openxmlformats-officedocument.presentationml.presentation",
                  "languages": [
                    "eng"
                  ],
                  "last_modified": "2025-07-08T14:03:14",
                  "page_number": 22
                },
                "text": "",
                "type": "PageBreak"
              },
              {
                "element_id": "19f9113899bb7a8ebc501ca34ddd8fa1",
                "metadata": {
                  "category_depth": 0,
                  "file_directory": "/content",
                  "filename": "Hofstede’s Cultural Dimensions.pptx",
                  "filetype": "application/vnd.openxmlformats-officedocument.presentationml.presentation",
                  "languages": [
                    "eng"
                  ],
                  "last_modified": "2025-07-08T14:03:14",
                  "page_number": 23
                },
                "text": "Venezuela\u000bhigh",
                "type": "Title"
              },
              {
                "element_id": "d250c5f7dfb67d2a3df48df7eeb1cb2b",
                "metadata": {
                  "category_depth": 1,
                  "file_directory": "/content",
                  "filename": "Hofstede’s Cultural Dimensions.pptx",
                  "filetype": "application/vnd.openxmlformats-officedocument.presentationml.presentation",
                  "languages": [
                    "eng"
                  ],
                  "last_modified": "2025-07-08T14:03:14",
                  "page_number": 23,
                  "parent_id": "19f9113899bb7a8ebc501ca34ddd8fa1"
                },
                "text": "Pakistan\u000blow",
                "type": "Title"
              },
              {
                "element_id": "99212c038c13b8f22aef586518c8c5d0",
                "metadata": {
                  "file_directory": "/content",
                  "filename": "Hofstede’s Cultural Dimensions.pptx",
                  "filetype": "application/vnd.openxmlformats-officedocument.presentationml.presentation",
                  "languages": [
                    "eng"
                  ],
                  "last_modified": "2025-07-08T14:03:14",
                  "page_number": 23
                },
                "text": "",
                "type": "PageBreak"
              },
              {
                "element_id": "300a8023306157841ee2e38e39a7fae7",
                "metadata": {
                  "category_depth": 0,
                  "file_directory": "/content",
                  "filename": "Hofstede’s Cultural Dimensions.pptx",
                  "filetype": "application/vnd.openxmlformats-officedocument.presentationml.presentation",
                  "languages": [
                    "eng"
                  ],
                  "last_modified": "2025-07-08T14:03:14",
                  "page_number": 24
                },
                "text": "Applications of the model",
                "type": "Title"
              },
              {
                "element_id": "f7d6dc24688afd2a1b29870f841dbd50",
                "metadata": {
                  "file_directory": "/content",
                  "filename": "Hofstede’s Cultural Dimensions.pptx",
                  "filetype": "application/vnd.openxmlformats-officedocument.presentationml.presentation",
                  "languages": [
                    "eng"
                  ],
                  "last_modified": "2025-07-08T14:03:14",
                  "page_number": 24
                },
                "text": "",
                "type": "PageBreak"
              },
              {
                "element_id": "feb6b6b021cea9b5aaeb04a4a8377eb6",
                "metadata": {
                  "category_depth": 0,
                  "file_directory": "/content",
                  "filename": "Hofstede’s Cultural Dimensions.pptx",
                  "filetype": "application/vnd.openxmlformats-officedocument.presentationml.presentation",
                  "languages": [
                    "eng"
                  ],
                  "last_modified": "2025-07-08T14:03:14",
                  "page_number": 25
                },
                "text": "1. International communication",
                "type": "Title"
              },
              {
                "element_id": "e6dff2259c829c7fbf8ea0888450e80a",
                "metadata": {
                  "category_depth": 0,
                  "file_directory": "/content",
                  "filename": "Hofstede’s Cultural Dimensions.pptx",
                  "filetype": "application/vnd.openxmlformats-officedocument.presentationml.presentation",
                  "languages": [
                    "eng"
                  ],
                  "last_modified": "2025-07-08T14:03:14",
                  "page_number": 25,
                  "parent_id": "feb6b6b021cea9b5aaeb04a4a8377eb6"
                },
                "text": "Communication is one of the primary concerns, cross-cultural communications require being aware of cultural differences because what may be considered perfectly acceptable and natural in one country, can be confusing or even offensive in another.  All the levels in communication are affected by cultural dimensions: verbal (words and language itself), non-verbal (body language, gestures) and etiquette do's and don'ts (clothing, gift-giving, dining, customs and protocol).",
                "type": "NarrativeText"
              },
              {
                "element_id": "c03a452c78cf93343ccfcd56002a11ce",
                "metadata": {
                  "file_directory": "/content",
                  "filename": "Hofstede’s Cultural Dimensions.pptx",
                  "filetype": "application/vnd.openxmlformats-officedocument.presentationml.presentation",
                  "languages": [
                    "eng"
                  ],
                  "last_modified": "2025-07-08T14:03:14",
                  "page_number": 25
                },
                "text": "",
                "type": "PageBreak"
              },
              {
                "element_id": "acb09f1d90ba059cf1feaed42d837277",
                "metadata": {
                  "category_depth": 0,
                  "file_directory": "/content",
                  "filename": "Hofstede’s Cultural Dimensions.pptx",
                  "filetype": "application/vnd.openxmlformats-officedocument.presentationml.presentation",
                  "languages": [
                    "eng"
                  ],
                  "last_modified": "2025-07-08T14:03:14",
                  "page_number": 26
                },
                "text": "2. International negotiation",
                "type": "Title"
              },
              {
                "element_id": "cf6b04b8c90963c394adcebdf6a9dff9",
                "metadata": {
                  "category_depth": 0,
                  "file_directory": "/content",
                  "filename": "Hofstede’s Cultural Dimensions.pptx",
                  "filetype": "application/vnd.openxmlformats-officedocument.presentationml.presentation",
                  "languages": [
                    "eng"
                  ],
                  "last_modified": "2025-07-08T14:03:14",
                  "page_number": 26,
                  "parent_id": "acb09f1d90ba059cf1feaed42d837277"
                },
                "text": "In international negotiations, communication style, expectation, issue ranking and goals will change according to the negotiators' countries of origin.",
                "type": "NarrativeText"
              },
              {
                "element_id": "3efc987d40e04e51ce306a050b61291c",
                "metadata": {
                  "category_depth": 0,
                  "file_directory": "/content",
                  "filename": "Hofstede’s Cultural Dimensions.pptx",
                  "filetype": "application/vnd.openxmlformats-officedocument.presentationml.presentation",
                  "languages": [
                    "eng"
                  ],
                  "last_modified": "2025-07-08T14:03:14",
                  "page_number": 26,
                  "parent_id": "acb09f1d90ba059cf1feaed42d837277"
                },
                "text": "It can increase success in negotiations and reduce frustration and conflicts.",
                "type": "NarrativeText"
              },
              {
                "element_id": "a0a396c6bf3e7d02e6210fcc59a9c9c2",
                "metadata": {
                  "category_depth": 0,
                  "file_directory": "/content",
                  "filename": "Hofstede’s Cultural Dimensions.pptx",
                  "filetype": "application/vnd.openxmlformats-officedocument.presentationml.presentation",
                  "languages": [
                    "eng"
                  ],
                  "last_modified": "2025-07-08T14:03:14",
                  "page_number": 26,
                  "parent_id": "acb09f1d90ba059cf1feaed42d837277"
                },
                "text": "For example, in a negotiation between Chinese and Canadians, the Canadian negotiators may want to reach an agreement and sign a contract, whereas the Chinese negotiators may want to spend more time for non-business activities, small-talk and hospitality with preferences for protocol and form in order to first establish the relationship.",
                "type": "NarrativeText"
              },
              {
                "element_id": "dca129909a8d0fd107dcc0acd9f30415",
                "metadata": {
                  "file_directory": "/content",
                  "filename": "Hofstede’s Cultural Dimensions.pptx",
                  "filetype": "application/vnd.openxmlformats-officedocument.presentationml.presentation",
                  "languages": [
                    "eng"
                  ],
                  "last_modified": "2025-07-08T14:03:14",
                  "page_number": 26
                },
                "text": "",
                "type": "PageBreak"
              },
              {
                "element_id": "1249a299a2a107ded7cfaec8ff62b567",
                "metadata": {
                  "category_depth": 0,
                  "file_directory": "/content",
                  "filename": "Hofstede’s Cultural Dimensions.pptx",
                  "filetype": "application/vnd.openxmlformats-officedocument.presentationml.presentation",
                  "languages": [
                    "eng"
                  ],
                  "last_modified": "2025-07-08T14:03:14",
                  "page_number": 27
                },
                "text": "3. International management",
                "type": "Title"
              },
              {
                "element_id": "b51a4d7cecd6379643fecb9eeedbeebe",
                "metadata": {
                  "category_depth": 0,
                  "file_directory": "/content",
                  "filename": "Hofstede’s Cultural Dimensions.pptx",
                  "filetype": "application/vnd.openxmlformats-officedocument.presentationml.presentation",
                  "languages": [
                    "eng"
                  ],
                  "last_modified": "2025-07-08T14:03:14",
                  "page_number": 27,
                  "parent_id": "1249a299a2a107ded7cfaec8ff62b567"
                },
                "text": "Decisions taken must be based on the country's customs and values. In international companies they provide training to their employees to make them sensitive to cultural differences. ",
                "type": "NarrativeText"
              },
              {
                "element_id": "ff2d07e97470ca598801415902c1f085",
                "metadata": {
                  "category_depth": 1,
                  "file_directory": "/content",
                  "filename": "Hofstede’s Cultural Dimensions.pptx",
                  "filetype": "application/vnd.openxmlformats-officedocument.presentationml.presentation",
                  "languages": [
                    "eng"
                  ],
                  "last_modified": "2025-07-08T14:03:14",
                  "page_number": 27,
                  "parent_id": "1249a299a2a107ded7cfaec8ff62b567"
                },
                "text": "For example:",
                "type": "Title"
              },
              {
                "element_id": "16a9ebf0f0b20bee4ef3f5764636841f",
                "metadata": {
                  "category_depth": 0,
                  "file_directory": "/content",
                  "filename": "Hofstede’s Cultural Dimensions.pptx",
                  "filetype": "application/vnd.openxmlformats-officedocument.presentationml.presentation",
                  "languages": [
                    "eng"
                  ],
                  "last_modified": "2025-07-08T14:03:14",
                  "page_number": 27,
                  "parent_id": "ff2d07e97470ca598801415902c1f085"
                },
                "text": "in collectivist societies, leaders who promote team unity and collective effort are likely to see better performance.",
                "type": "NarrativeText"
              },
              {
                "element_id": "1dc338c36c4c5bcfc90e6fdad7c5b466",
                "metadata": {
                  "category_depth": 0,
                  "file_directory": "/content",
                  "filename": "Hofstede’s Cultural Dimensions.pptx",
                  "filetype": "application/vnd.openxmlformats-officedocument.presentationml.presentation",
                  "languages": [
                    "eng"
                  ],
                  "last_modified": "2025-07-08T14:03:14",
                  "page_number": 27,
                  "parent_id": "ff2d07e97470ca598801415902c1f085"
                },
                "text": "In contrast, management that values and encourages individual initiative and responsibility aligns well with individualistic cultures, leading to greater effectiveness in those settings",
                "type": "NarrativeText"
              },
              {
                "element_id": "45c84fcf532553c362002b145cfae1d0",
                "metadata": {
                  "file_directory": "/content",
                  "filename": "Hofstede’s Cultural Dimensions.pptx",
                  "filetype": "application/vnd.openxmlformats-officedocument.presentationml.presentation",
                  "languages": [
                    "eng"
                  ],
                  "last_modified": "2025-07-08T14:03:14",
                  "page_number": 27
                },
                "text": "",
                "type": "PageBreak"
              },
              {
                "element_id": "9ebd40ac2f483bb593165fb4e2bf35f5",
                "metadata": {
                  "category_depth": 0,
                  "file_directory": "/content",
                  "filename": "Hofstede’s Cultural Dimensions.pptx",
                  "filetype": "application/vnd.openxmlformats-officedocument.presentationml.presentation",
                  "languages": [
                    "eng"
                  ],
                  "last_modified": "2025-07-08T14:03:14",
                  "page_number": 28
                },
                "text": "4. International marketing",
                "type": "Title"
              },
              {
                "element_id": "bf60d6f240cbff90e8dcbca7b3f587dc",
                "metadata": {
                  "category_depth": 0,
                  "file_directory": "/content",
                  "filename": "Hofstede’s Cultural Dimensions.pptx",
                  "filetype": "application/vnd.openxmlformats-officedocument.presentationml.presentation",
                  "languages": [
                    "eng"
                  ],
                  "last_modified": "2025-07-08T14:03:14",
                  "page_number": 28,
                  "parent_id": "9ebd40ac2f483bb593165fb4e2bf35f5"
                },
                "text": "Hofstede's model is useful in international marketing as it helps companies tailor their products and advertising to match local cultural values. ",
                "type": "NarrativeText"
              },
              {
                "element_id": "02f9e7fa78cc9d1d4ebd44d6139c95ad",
                "metadata": {
                  "category_depth": 1,
                  "file_directory": "/content",
                  "filename": "Hofstede’s Cultural Dimensions.pptx",
                  "filetype": "application/vnd.openxmlformats-officedocument.presentationml.presentation",
                  "languages": [
                    "eng"
                  ],
                  "last_modified": "2025-07-08T14:03:14",
                  "page_number": 28,
                  "parent_id": "9ebd40ac2f483bb593165fb4e2bf35f5"
                },
                "text": "For example:",
                "type": "Title"
              },
              {
                "element_id": "a1359ef60212737063f5d65ddc4486ef",
                "metadata": {
                  "category_depth": 0,
                  "file_directory": "/content",
                  "filename": "Hofstede’s Cultural Dimensions.pptx",
                  "filetype": "application/vnd.openxmlformats-officedocument.presentationml.presentation",
                  "languages": [
                    "eng"
                  ],
                  "last_modified": "2025-07-08T14:03:14",
                  "page_number": 28,
                  "parent_id": "02f9e7fa78cc9d1d4ebd44d6139c95ad"
                },
                "text": "Car market: in a country where uncertainty avoidance is high, you should emphasize their safety, whereas in other countries you may base your advertisement on the social image they give you.",
                "type": "NarrativeText"
              },
              {
                "element_id": "e2c40c1bb3f41ea32831b5291efd0bfd",
                "metadata": {
                  "category_depth": 0,
                  "file_directory": "/content",
                  "filename": "Hofstede’s Cultural Dimensions.pptx",
                  "filetype": "application/vnd.openxmlformats-officedocument.presentationml.presentation",
                  "languages": [
                    "eng"
                  ],
                  "last_modified": "2025-07-08T14:03:14",
                  "page_number": 28,
                  "parent_id": "02f9e7fa78cc9d1d4ebd44d6139c95ad"
                },
                "text": "Cell phone marketing: if you want to advertise cell phones in China, you may show a collective experience whereas in the United States, you may show how an individual uses it to save time and money. ",
                "type": "NarrativeText"
              },
              {
                "element_id": "0501fa0d65bff58bf917da7fe165b8a5",
                "metadata": {
                  "file_directory": "/content",
                  "filename": "Hofstede’s Cultural Dimensions.pptx",
                  "filetype": "application/vnd.openxmlformats-officedocument.presentationml.presentation",
                  "languages": [
                    "eng"
                  ],
                  "last_modified": "2025-07-08T14:03:14",
                  "page_number": 28
                },
                "text": "",
                "type": "PageBreak"
              },
              {
                "element_id": "d03a38283fcdb9b53c29fd2a5dd0124c",
                "metadata": {
                  "category_depth": 1,
                  "file_directory": "/content",
                  "filename": "Hofstede’s Cultural Dimensions.pptx",
                  "filetype": "application/vnd.openxmlformats-officedocument.presentationml.presentation",
                  "languages": [
                    "eng"
                  ],
                  "last_modified": "2025-07-08T14:03:14",
                  "page_number": 29
                },
                "text": "Advantages ",
                "type": "Title"
              },
              {
                "element_id": "df5ff827d9c89e07e793c49ea8eb0b19",
                "metadata": {
                  "category_depth": 1,
                  "file_directory": "/content",
                  "filename": "Hofstede’s Cultural Dimensions.pptx",
                  "filetype": "application/vnd.openxmlformats-officedocument.presentationml.presentation",
                  "languages": [
                    "eng"
                  ],
                  "last_modified": "2025-07-08T14:03:14",
                  "page_number": 29
                },
                "text": "Disadvantages ",
                "type": "Title"
              },
              {
                "element_id": "04a318ade5b1436295dfc03d6d43ec4d",
                "metadata": {
                  "category_depth": 0,
                  "file_directory": "/content",
                  "filename": "Hofstede’s Cultural Dimensions.pptx",
                  "filetype": "application/vnd.openxmlformats-officedocument.presentationml.presentation",
                  "languages": [
                    "eng"
                  ],
                  "last_modified": "2025-07-08T14:03:14",
                  "page_number": 29,
                  "parent_id": "df5ff827d9c89e07e793c49ea8eb0b19"
                },
                "text": "Enhances cultural insight: It helps understanding of diverse cultures, fostering an appreciation for diversity.",
                "type": "ListItem"
              },
              {
                "element_id": "7f3f8a91976189f5fde1636cfc43666f",
                "metadata": {
                  "category_depth": 0,
                  "file_directory": "/content",
                  "filename": "Hofstede’s Cultural Dimensions.pptx",
                  "filetype": "application/vnd.openxmlformats-officedocument.presentationml.presentation",
                  "languages": [
                    "eng"
                  ],
                  "last_modified": "2025-07-08T14:03:14",
                  "page_number": 29,
                  "parent_id": "df5ff827d9c89e07e793c49ea8eb0b19"
                },
                "text": "Promotes global collaboration: It supports informed management of individuals from diverse cultures to reduce misunderstanding and conflicts in communication and collaboration.",
                "type": "ListItem"
              },
              {
                "element_id": "b1e80bbf5be9749a6b19e0c65e525747",
                "metadata": {
                  "category_depth": 0,
                  "file_directory": "/content",
                  "filename": "Hofstede’s Cultural Dimensions.pptx",
                  "filetype": "application/vnd.openxmlformats-officedocument.presentationml.presentation",
                  "languages": [
                    "eng"
                  ],
                  "last_modified": "2025-07-08T14:03:14",
                  "page_number": 29,
                  "parent_id": "df5ff827d9c89e07e793c49ea8eb0b19"
                },
                "text": "Dated dimensions: It could be argued that the dimensions do not fully capture the intricacies of various social cultures.",
                "type": "ListItem"
              },
              {
                "element_id": "5412aa0cd4067c88ab305d8f31a1bb0e",
                "metadata": {
                  "category_depth": 0,
                  "file_directory": "/content",
                  "filename": "Hofstede’s Cultural Dimensions.pptx",
                  "filetype": "application/vnd.openxmlformats-officedocument.presentationml.presentation",
                  "languages": [
                    "eng"
                  ],
                  "last_modified": "2025-07-08T14:03:14",
                  "page_number": 29,
                  "parent_id": "df5ff827d9c89e07e793c49ea8eb0b19"
                },
                "text": "Cultures not individuals: Although the model aims to define cultures and not individuals, every individual is still ultimately unique, shaped by personal experiences that influence their values throughout life.",
                "type": "ListItem"
              },
              {
                "element_id": "bfe5b07474db0e728642d0876b525956",
                "metadata": {
                  "file_directory": "/content",
                  "filename": "Hofstede’s Cultural Dimensions.pptx",
                  "filetype": "application/vnd.openxmlformats-officedocument.presentationml.presentation",
                  "languages": [
                    "eng"
                  ],
                  "last_modified": "2025-07-08T14:03:14",
                  "page_number": 29
                },
                "text": "",
                "type": "PageBreak"
              },
              {
                "element_id": "2fc66743037caafd5cf625b525467a18",
                "metadata": {
                  "category_depth": 0,
                  "file_directory": "/content",
                  "filename": "Hofstede’s Cultural Dimensions.pptx",
                  "filetype": "application/vnd.openxmlformats-officedocument.presentationml.presentation",
                  "languages": [
                    "eng"
                  ],
                  "last_modified": "2025-07-08T14:03:14",
                  "page_number": 30
                },
                "text": "Conclusion:",
                "type": "Title"
              },
              {
                "element_id": "c0731911aea851fb34a4dbf11f962f9d",
                "metadata": {
                  "category_depth": 0,
                  "file_directory": "/content",
                  "filename": "Hofstede’s Cultural Dimensions.pptx",
                  "filetype": "application/vnd.openxmlformats-officedocument.presentationml.presentation",
                  "languages": [
                    "eng"
                  ],
                  "last_modified": "2025-07-08T14:03:14",
                  "page_number": 30,
                  "parent_id": "2fc66743037caafd5cf625b525467a18"
                },
                "text": "Hofstede's six dimensions of culture provide valuable insights into understanding and navigating cultural differences in a globalized world. By recognizing and adapting to these cultural values, businesses can improve communication, enhance negotiations, tailor marketing strategies, and effectively manage diverse teams. Understanding cultural dimensions is crucial for success in international settings, helping organizations build stronger relationships, avoid misunderstandings, and achieve better outcomes across borders.",
                "type": "NarrativeText"
              },
              {
                "element_id": "00c52eb712bc69e657ae18848953eefa",
                "metadata": {
                  "file_directory": "/content",
                  "filename": "Hofstede’s Cultural Dimensions.pptx",
                  "filetype": "application/vnd.openxmlformats-officedocument.presentationml.presentation",
                  "languages": [
                    "eng"
                  ],
                  "last_modified": "2025-07-08T14:03:14",
                  "page_number": 30
                },
                "text": "",
                "type": "PageBreak"
              },
              {
                "element_id": "6ae02d80696c3f21a42fd723ae80fd3a",
                "metadata": {
                  "category_depth": 0,
                  "file_directory": "/content",
                  "filename": "Hofstede’s Cultural Dimensions.pptx",
                  "filetype": "application/vnd.openxmlformats-officedocument.presentationml.presentation",
                  "languages": [
                    "eng"
                  ],
                  "last_modified": "2025-07-08T14:03:14",
                  "page_number": 31
                },
                "text": "Thank you!",
                "type": "Title"
              }
            ],
            "text/plain": [
              "<IPython.core.display.JSON object>"
            ]
          },
          "execution_count": 19,
          "metadata": {
            "application/json": {
              "expanded": false,
              "root": "root"
            }
          },
          "output_type": "execute_result"
        }
      ],
      "source": [
        "JSON(example_output)"
      ]
    }
  ],
  "metadata": {
    "colab": {
      "provenance": []
    },
    "kernelspec": {
      "display_name": "Python 3",
      "name": "python3"
    },
    "language_info": {
      "name": "python"
    }
  },
  "nbformat": 4,
  "nbformat_minor": 0
}
